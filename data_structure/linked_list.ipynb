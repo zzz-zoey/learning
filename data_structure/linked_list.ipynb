{
  "nbformat": 4,
  "nbformat_minor": 0,
  "metadata": {
    "colab": {
      "provenance": [],
      "collapsed_sections": [
        "UsgHlnYhXFAp",
        "g2SWa_fGWa5g",
        "ogx7BARKW1ne"
      ]
    },
    "kernelspec": {
      "name": "python3",
      "display_name": "Python 3"
    },
    "language_info": {
      "name": "python"
    }
  },
  "cells": [
    {
      "cell_type": "markdown",
      "source": [
        "# 链表"
      ],
      "metadata": {
        "id": "G7HBbDw2WRNn"
      }
    },
    {
      "cell_type": "markdown",
      "source": [
        "## 基础知识"
      ],
      "metadata": {
        "id": "UsgHlnYhXFAp"
      }
    },
    {
      "cell_type": "code",
      "execution_count": 2,
      "metadata": {
        "id": "G7QwscgRvjBM"
      },
      "outputs": [],
      "source": [
        "# 定义\n",
        "\n",
        "# 链节点类\n",
        "class ListNode:\n",
        "  def __init__(self, val=0, next=None):\n",
        "    self.val = val\n",
        "    self.next = next\n",
        "\n",
        "# 链表类\n",
        "class LinkedList:\n",
        "  def __init__(self):\n",
        "    self.head = None"
      ]
    },
    {
      "cell_type": "code",
      "source": [
        "# 创建链表\n",
        "def create(self, data):\n",
        "  self.head = ListNode(0)\n",
        "  cur = self.head  # 指针变量\n",
        "  for i in range(len(data)):\n",
        "    node = ListNode(data[i])\n",
        "    cur.next = node\n",
        "    cur = cur.next"
      ],
      "metadata": {
        "id": "T-Wl13cowiTb"
      },
      "execution_count": 3,
      "outputs": []
    },
    {
      "cell_type": "code",
      "source": [
        "# 求链表长度\n",
        "# 链表长度（链节点个数）：n\n",
        "# 时间复杂度：O(n)\n",
        "def length(self):\n",
        "  cnt = 0  # 计数器\n",
        "  cur = self.head\n",
        "  while cur:  # 遍历\n",
        "    cnt += 1\n",
        "    cur = cur.next\n",
        "  return cnt"
      ],
      "metadata": {
        "id": "Mf3YUaK4CfhO"
      },
      "execution_count": 11,
      "outputs": []
    },
    {
      "cell_type": "code",
      "source": [
        "# 查找元素/访问元素\n",
        "# 时间复杂度：O(n)\n",
        "def find(self, val):\n",
        "  cur = self.head\n",
        "  while cur:  # 遍历\n",
        "    if val == cur.val:\n",
        "      return cur\n",
        "    cur = cur.next\n",
        "  return None"
      ],
      "metadata": {
        "id": "_cWHvdwQDjdN"
      },
      "execution_count": 12,
      "outputs": []
    },
    {
      "cell_type": "code",
      "source": [
        "# 插入元素\n",
        "\n",
        "# 链表头部插入元素\n",
        "# 时间复杂度：O(1)\n",
        "def insertFront(self, val):\n",
        "  # 创建一个值为val的链节点node\n",
        "  node = ListNode(val)\n",
        "  # node的next指针指向头节点head\n",
        "  node.next = self.head\n",
        "  # 头节点head指向node\n",
        "  self.head = node"
      ],
      "metadata": {
        "id": "0PAU1HPzEbP1"
      },
      "execution_count": 13,
      "outputs": []
    },
    {
      "cell_type": "code",
      "source": [
        "# 链表尾部插入元素\n",
        "# 时间复杂度：O(n)\n",
        "def insertRear(self, val):\n",
        "  # 创建一个值为val的链节点node\n",
        "  node = ListNode(val)\n",
        "  cur = self.head\n",
        "  # 遍历，直到cur.next为None\n",
        "  while cur.next:\n",
        "    cur = cur.next\n",
        "  cur.next = node"
      ],
      "metadata": {
        "id": "chnqWMOuFb_g"
      },
      "execution_count": 14,
      "outputs": []
    },
    {
      "cell_type": "code",
      "source": [
        "# 链表中间插入元素\n",
        "# 时间复杂度：O(n)\n",
        "def insertInside(self, index, val):\n",
        "  cnt = 0  # 计数器\n",
        "  # 指针变量cur指向头节点\n",
        "  cur = self.head\n",
        "  # 当遍历到第index-1个链节点（第i个链节点之前）时停止遍历\n",
        "  while cur and cnt < index - 1:\n",
        "    cnt += 1\n",
        "    cur = cur.next  # 移动指针\n",
        "  if not cur:\n",
        "    return 'Error'\n",
        "  # 创建一个值为val的链节点node\n",
        "  node = ListNode(val)\n",
        "  # node.next指向cur.next\n",
        "  node.next = cur.next\n",
        "  # cur.next指向node\n",
        "  cur.next = node"
      ],
      "metadata": {
        "id": "hn4cHa6KFfk1"
      },
      "execution_count": 15,
      "outputs": []
    },
    {
      "cell_type": "code",
      "source": [
        "# 改变元素\n",
        "# 时间复杂度：O(n)\n",
        "def change(self, index, val):\n",
        "  cnt = 0\n",
        "  cur = self.head\n",
        "  # 遍历到第i个链节点\n",
        "  while cur and cnt < index:\n",
        "    cnt += 1\n",
        "    cur = cur.next\n",
        "  if not cur:\n",
        "    return 'Error'\n",
        "  cur.val = val"
      ],
      "metadata": {
        "id": "RHBzkhcrFgKZ"
      },
      "execution_count": 18,
      "outputs": []
    },
    {
      "cell_type": "code",
      "source": [
        "# 删除元素\n",
        "\n",
        "# 链表头部删除元素（删除第1个链节点）\n",
        "# 时间复杂度：O(1)\n",
        "def removeFront(self):\n",
        "  if self.head:\n",
        "    # 指针右移一步\n",
        "    self.head = self.head.next"
      ],
      "metadata": {
        "id": "a4U8v74IQyIB"
      },
      "execution_count": 19,
      "outputs": []
    },
    {
      "cell_type": "code",
      "source": [
        "# 链表尾部删除元素\n",
        "# 时间复杂度：O(n)\n",
        "def removeRear(self):\n",
        "  if not self.head.next:\n",
        "    return 'Error'\n",
        "  cur = self.head\n",
        "  # 将指针变量cur移动到倒数第2个链节点（n-2）\n",
        "  while cur.next.next:\n",
        "    cur = cur.next\n",
        "  # 指向None\n",
        "  cur.next = None"
      ],
      "metadata": {
        "id": "NgYplZAdQzF5"
      },
      "execution_count": 22,
      "outputs": []
    },
    {
      "cell_type": "code",
      "source": [
        "# 链表中间删除元素\n",
        "# 时间复杂度：O(n)\n",
        "def removeInside(self, i):\n",
        "  cnt = 0\n",
        "  cur = self.head\n",
        "  # 将指针变量cur移动到第i-1个链节点\n",
        "  while cur.next and cnt < i - 1:\n",
        "    cnt += 1\n",
        "    cur = cur.next\n",
        "  if not cur:\n",
        "    return 'Error'\n",
        "  del_node = cur.next\n",
        "  # i-1的next不再指向i，而是指向i+1\n",
        "  cur.next = del_node.next"
      ],
      "metadata": {
        "id": "9n_eJEv8ScXB"
      },
      "execution_count": 21,
      "outputs": []
    },
    {
      "cell_type": "markdown",
      "source": [
        "## 习题1：设计链表\n",
        "https://leetcode.cn/problems/design-linked-list/"
      ],
      "metadata": {
        "id": "g2SWa_fGWa5g"
      }
    },
    {
      "cell_type": "code",
      "source": [
        "class ListNode:\n",
        "\n",
        "  def __init__(self, val):\n",
        "    self.val = val\n",
        "    self.next = None\n",
        "\n",
        "class MyLinkedList:\n",
        "\n",
        "  def __init__(self):\n",
        "    self.head = ListNode(0)\n",
        "    self.size = 0\n",
        "\n",
        "  def get(self, index: int) -> int:\n",
        "    # 判断有效性\n",
        "    if index < 0 or index >= self.size:  # 索引无效\n",
        "      return -1\n",
        "    cur = self.head\n",
        "    for _ in range(index + 1):\n",
        "      cur = cur.next\n",
        "    return cur.val\n",
        "\n",
        "  def addAtHead(self, val: int) -> None:\n",
        "    self.addAtIndex(0, val)\n",
        "\n",
        "  def addAtTail(self, val: int) -> None:\n",
        "    self.addAtIndex(self.size, val)\n",
        "\n",
        "  def addAtIndex(self, index: int, val: int) -> None:\n",
        "    # 判断有效性（检查索引）\n",
        "    if index < 0 or index > self.size:\n",
        "      return\n",
        "    self.size += 1\n",
        "    # 初始化指针\n",
        "    cur = self.head  # pred = predecessor\n",
        "    # 移动指针\n",
        "    for _ in range(index):\n",
        "      cur = cur.next\n",
        "    # 新建节点\n",
        "    node = ListNode(val)\n",
        "    node.next = cur.next\n",
        "    cur.next = node\n",
        "\n",
        "  def deleteAtIndex(self, index: int) -> None:\n",
        "    # 判断有效性（检查索引）\n",
        "    if index < 0 or index >= self.size:\n",
        "      return\n",
        "    self.size -= 1\n",
        "    # 初始化指针\n",
        "    cur = self.head\n",
        "    # 移动指针\n",
        "    for _ in range(index):\n",
        "      cur = cur.next\n",
        "    cur.next = cur.next.next"
      ],
      "metadata": {
        "id": "i9lZymxDSc-1"
      },
      "execution_count": 69,
      "outputs": []
    },
    {
      "cell_type": "code",
      "source": [
        "# 初始化 MyLinkedList 对象\n",
        "obj = MyLinkedList()"
      ],
      "metadata": {
        "id": "xQgy2re0abHF"
      },
      "execution_count": 42,
      "outputs": []
    },
    {
      "cell_type": "code",
      "source": [
        "for i in range(obj.size):\n",
        "  print(obj.get(i))"
      ],
      "metadata": {
        "colab": {
          "base_uri": "https://localhost:8080/"
        },
        "id": "umjIi6jka0Gh",
        "outputId": "b80a188e-fffb-4538-84cc-5322f06aafb2"
      },
      "execution_count": 76,
      "outputs": [
        {
          "output_type": "stream",
          "name": "stdout",
          "text": [
            "3\n",
            "4\n",
            "3\n"
          ]
        }
      ]
    },
    {
      "cell_type": "code",
      "source": [
        "obj.size"
      ],
      "metadata": {
        "colab": {
          "base_uri": "https://localhost:8080/"
        },
        "id": "vPXzz3sBq5M4",
        "outputId": "26296b73-65ca-4854-9d71-b8ed2a5ce54e"
      },
      "execution_count": 66,
      "outputs": [
        {
          "output_type": "execute_result",
          "data": {
            "text/plain": [
              "4"
            ]
          },
          "metadata": {},
          "execution_count": 66
        }
      ]
    },
    {
      "cell_type": "code",
      "source": [
        "obj.get(0)"
      ],
      "metadata": {
        "colab": {
          "base_uri": "https://localhost:8080/"
        },
        "id": "hADTPI3yrGmv",
        "outputId": "2f796581-5fb7-4de8-de67-dc08e9fde7b0"
      },
      "execution_count": 55,
      "outputs": [
        {
          "output_type": "execute_result",
          "data": {
            "text/plain": [
              "3"
            ]
          },
          "metadata": {},
          "execution_count": 55
        }
      ]
    },
    {
      "cell_type": "code",
      "source": [
        "obj.addAtHead(3)"
      ],
      "metadata": {
        "id": "2Z1rNdLgnw1i"
      },
      "execution_count": 57,
      "outputs": []
    },
    {
      "cell_type": "code",
      "source": [
        "obj.addAtTail(10)"
      ],
      "metadata": {
        "id": "pCCljgv3rP1p"
      },
      "execution_count": 58,
      "outputs": []
    },
    {
      "cell_type": "code",
      "source": [
        "obj.addAtIndex(2, 5)"
      ],
      "metadata": {
        "id": "T-A_ZK5_rR2I"
      },
      "execution_count": 71,
      "outputs": []
    },
    {
      "cell_type": "code",
      "source": [
        "obj.deleteAtIndex(2)"
      ],
      "metadata": {
        "id": "hFjQ545irTDw"
      },
      "execution_count": 75,
      "outputs": []
    },
    {
      "cell_type": "markdown",
      "source": [
        "## 习题2：反转链表\n",
        "https://leetcode.cn/problems/reverse-linked-list/"
      ],
      "metadata": {
        "id": "ogx7BARKW1ne"
      }
    },
    {
      "cell_type": "code",
      "source": [
        "# 方法一：迭代（双链表）\n",
        "# 时间复杂度：O(n)\n",
        "# 空间复杂度：O(1)\n",
        "class Solution:\n",
        "  def reverseList(self, head: ListNode) -> ListNode:\n",
        "    # 初始化\n",
        "    cur, pre = head, None\n",
        "    while cur:\n",
        "      tmp = cur.next  # 暂存\n",
        "      cur.next = pre\n",
        "      pre = cur\n",
        "      cur = tmp\n",
        "    return pre"
      ],
      "metadata": {
        "id": "onccKMh6wab_"
      },
      "execution_count": 82,
      "outputs": []
    },
    {
      "cell_type": "code",
      "source": [
        "# 方法二：递归\n",
        "# 时间复杂度：O(n)\n",
        "# 空间复杂度：O(n)\n",
        "class Solution:\n",
        "  def reverseList(self, head: ListNode) -> ListNode:\n",
        "    def recur(cur, pre):\n",
        "      if not cur:\n",
        "        return pre  # 回溯\n",
        "      res = recur(cur.next, cur)  # result\n",
        "      cur.next = pre\n",
        "      return res\n",
        "    return recur(head, None)"
      ],
      "metadata": {
        "id": "FJiBP3XvwdOL"
      },
      "execution_count": null,
      "outputs": []
    },
    {
      "cell_type": "markdown",
      "source": [
        "## 习题3：移除链表元素\n",
        "https://leetcode.cn/problems/remove-linked-list-elements/\n",
        "\n",
        "* test case 1\n",
        "    * input: head = [1,2,6,3,4,5,6], val = 6\n",
        "    * output: [1,2,3,4,5]\n",
        "* test case 2\n",
        "    * input: head = [], val = 1\n",
        "    * output: []\n",
        "* test case 3\n",
        "    * input: head = [7,7,7,7], val = 7\n",
        "    * output: []"
      ],
      "metadata": {
        "id": "_rDHA6nislSG"
      }
    },
    {
      "cell_type": "code",
      "source": [
        "# 方法一：迭代\n",
        "class Solution:\n",
        "    def removeElements(self, head: ListNode, val: int) -> ListNode:\n",
        "        # head不为空且值为val\n",
        "        while head and head.val == val:\n",
        "            # 移除头节点（将头节点指向下一个节点）\n",
        "            head = head.next\n",
        "        if not head:\n",
        "          return\n",
        "\n",
        "        # 定义一个指针pre指向head\n",
        "        pre = head\n",
        "        # 从头节点开始，遍历链表\n",
        "        while pre.next:\n",
        "            if pre.next.val == val:\n",
        "                # 将当前节点的next指针指向下一个节点，并释放当前节点\n",
        "                pre.next = pre.next.next\n",
        "            else:\n",
        "                # 若当前节点的值不为val，则将pre指针指向下一个节点\n",
        "                pre = pre.next\n",
        "        # 返回新的头节点\n",
        "        return head"
      ],
      "metadata": {
        "id": "NeQStK69slub"
      },
      "execution_count": 105,
      "outputs": []
    },
    {
      "cell_type": "markdown",
      "source": [
        "## 习题4：奇偶链表\n",
        "https://leetcode.cn/problems/odd-even-linked-list/"
      ],
      "metadata": {
        "id": "SryofNMF6Ejw"
      }
    },
    {
      "cell_type": "code",
      "source": [],
      "metadata": {
        "id": "E00mGgmy7K0x"
      },
      "execution_count": null,
      "outputs": []
    },
    {
      "cell_type": "markdown",
      "source": [
        "## 习题5：回文链表\n",
        "https://leetcode.cn/problems/palindrome-linked-list/"
      ],
      "metadata": {
        "id": "VSyfP8XW7DQA"
      }
    },
    {
      "cell_type": "code",
      "source": [],
      "metadata": {
        "id": "tg9RoOzl7KoZ"
      },
      "execution_count": null,
      "outputs": []
    },
    {
      "cell_type": "markdown",
      "source": [
        "## 习题6：复制带随机指针的链表\n",
        "https://leetcode.cn/problems/copy-list-with-random-pointer/"
      ],
      "metadata": {
        "id": "z3z_DDWB7C4m"
      }
    },
    {
      "cell_type": "code",
      "source": [],
      "metadata": {
        "id": "y4h3XC8Y7HRR"
      },
      "execution_count": null,
      "outputs": []
    }
  ]
}